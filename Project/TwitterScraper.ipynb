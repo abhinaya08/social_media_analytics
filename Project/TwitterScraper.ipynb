{
 "cells": [
  {
   "cell_type": "code",
   "execution_count": 1,
   "metadata": {},
   "outputs": [],
   "source": [
    "import tweepy\n",
    "from tweepy import OAuthHandler\n",
    "import json\n",
    "import pandas as pd\n",
    "import time"
   ]
  },
  {
   "cell_type": "code",
   "execution_count": 2,
   "metadata": {},
   "outputs": [],
   "source": [
    "with open('twitter_credentials.json') as cred_data:\n",
    "\tinfo = json.load(cred_data)\n",
    "\tconsumer_key = info['CONSUMER_KEY']\n",
    "\tconsumer_secret = info['CONSUMER_SECRET']\n",
    "\taccess_key = info['ACCESS_KEY']\n",
    "\taccess_secret = info['ACCESS_SECRET']"
   ]
  },
  {
   "cell_type": "code",
   "execution_count": 6,
   "metadata": {},
   "outputs": [
    {
     "name": "stdout",
     "output_type": "stream",
     "text": [
      "Enter the number of tweets that you want to extract- 10000\n",
      "Enter the hashtag you want to scrape- FinalStrike\n",
      "Extracted 10000 tweets with hashtag #FinalStrike\n"
     ]
    }
   ],
   "source": [
    "maximum_number_of_tweets_to_be_extracted = int(input('Enter the number of tweets that you want to extract- '))\n",
    "\n",
    "# Mention the hashtag that you want to look out for\n",
    "\n",
    "hashtag = input('Enter the hashtag you want to scrape- ')\n",
    "\n",
    "auth = OAuthHandler(consumer_key, consumer_secret)\n",
    "#auth.set_access_token(access_token, access_secret)\n",
    "api = tweepy.API(auth, wait_on_rate_limit=True)\n",
    "\n",
    "statuses = tweepy.Cursor(api.search, q='#' + hashtag,\n",
    "                         since=\"2019-02-25\",\n",
    "                         until=\"2019-02-27\",\n",
    "                         rpp=1).items(maximum_number_of_tweets_to_be_extracted)\n",
    "\n",
    "i=0\n",
    "ids,retweet,favorite,inreplyto,friends,screen_name,followers,listed,text,location,created_at = [],[],[],[],[],[],[],[],[],[],[]\n",
    "\n",
    "for tweet in statuses:\n",
    "    ids.append(tweet.user.id)\n",
    "    retweet.append(tweet.retweet_count)\n",
    "    favorite.append(tweet.favorite_count)\n",
    "    inreplyto.append(tweet.in_reply_to_screen_name)\n",
    "    friends.append(tweet.user.friends_count)\n",
    "    screen_name.append(tweet.user.screen_name)\n",
    "    followers.append(tweet.user.followers_count)\n",
    "    listed.append(tweet.user.listed_count)\n",
    "    text.append(tweet.text)\n",
    "    location.append(tweet.user.location)\n",
    "    created_at.append(tweet.created_at)\n",
    "    time.sleep(0.1)\n",
    "    # #print(tweet.entities.user_mentions)\n",
    "    # #user_mentions.append(tweet.user_mentions)\n",
    "    \n",
    "    i=i+1\n",
    "    if(i%500 == 0):\n",
    "        print(\"Extracted \" + str(i) +\" tweets\")\n",
    "        print (\"Latest extracted tweet with timestamp:\", tweet.created_at)\n",
    "\n",
    "df =pd.DataFrame({'ids':ids,\n",
    "                  'retweet': retweet,\n",
    "                  'favorite': favorite,\n",
    "                  'inreplyto':inreplyto,\n",
    "                  'friends':friends,\n",
    "                  'screen_name':screen_name,\n",
    "                  'followers':followers,\n",
    "                  'listed':listed,\n",
    "                  'text':text,\n",
    "                  'location':location,\n",
    "                 'created_at':created_at})\n",
    "\n",
    "df.to_csv('Data/tweets2_with_hashtag_' + hashtag + '.csv')\n",
    "\n",
    "print ('Extracted ' + str(maximum_number_of_tweets_to_be_extracted) + ' tweets with hashtag #' + hashtag)\n"
   ]
  }
 ],
 "metadata": {
  "kernelspec": {
   "display_name": "Python 3",
   "language": "python",
   "name": "python3"
  },
  "language_info": {
   "codemirror_mode": {
    "name": "ipython",
    "version": 3
   },
   "file_extension": ".py",
   "mimetype": "text/x-python",
   "name": "python",
   "nbconvert_exporter": "python",
   "pygments_lexer": "ipython3",
   "version": "3.6.6"
  }
 },
 "nbformat": 4,
 "nbformat_minor": 2
}
